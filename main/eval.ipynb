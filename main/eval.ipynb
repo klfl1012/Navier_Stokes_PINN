{
 "cells": [
  {
   "cell_type": "code",
   "execution_count": 1,
   "metadata": {},
   "outputs": [],
   "source": [
    "import torch"
   ]
  },
  {
   "cell_type": "code",
   "execution_count": 2,
   "metadata": {},
   "outputs": [
    {
     "data": {
      "text/plain": [
       "Sequential(\n",
       "  (0): Linear(in_features=3, out_features=20, bias=True)\n",
       "  (1): Tanh()\n",
       "  (2): Linear(in_features=20, out_features=20, bias=True)\n",
       "  (3): Tanh()\n",
       "  (4): Linear(in_features=20, out_features=20, bias=True)\n",
       "  (5): Tanh()\n",
       "  (6): Linear(in_features=20, out_features=20, bias=True)\n",
       "  (7): Tanh()\n",
       "  (8): Linear(in_features=20, out_features=20, bias=True)\n",
       "  (9): Tanh()\n",
       "  (10): Linear(in_features=20, out_features=20, bias=True)\n",
       "  (11): Tanh()\n",
       "  (12): Linear(in_features=20, out_features=20, bias=True)\n",
       "  (13): Tanh()\n",
       "  (14): Linear(in_features=20, out_features=20, bias=True)\n",
       "  (15): Tanh()\n",
       "  (16): Linear(in_features=20, out_features=20, bias=True)\n",
       "  (17): Tanh()\n",
       "  (18): Linear(in_features=20, out_features=2, bias=True)\n",
       ")"
      ]
     },
     "execution_count": 2,
     "metadata": {},
     "output_type": "execute_result"
    }
   ],
   "source": [
    "torch.load('/Users/florian/Documents/github/Navier_Stokes_PINN/main/model/pinn_navier_stokes.pth')"
   ]
  },
  {
   "cell_type": "code",
   "execution_count": null,
   "metadata": {},
   "outputs": [],
   "source": []
  }
 ],
 "metadata": {
  "kernelspec": {
   "display_name": "Python 3",
   "language": "python",
   "name": "python3"
  },
  "language_info": {
   "codemirror_mode": {
    "name": "ipython",
    "version": 3
   },
   "file_extension": ".py",
   "mimetype": "text/x-python",
   "name": "python",
   "nbconvert_exporter": "python",
   "pygments_lexer": "ipython3",
   "version": "3.12.2"
  }
 },
 "nbformat": 4,
 "nbformat_minor": 2
}
